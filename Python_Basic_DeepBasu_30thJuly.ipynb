{
  "nbformat": 4,
  "nbformat_minor": 0,
  "metadata": {
    "colab": {
      "provenance": []
    },
    "kernelspec": {
      "name": "python3",
      "display_name": "Python 3"
    },
    "language_info": {
      "name": "python"
    }
  },
  "cells": [
    {
      "cell_type": "markdown",
      "source": [
        "# Python_Basics"
      ],
      "metadata": {
        "id": "YK-jWzWmDoCk"
      }
    },
    {
      "cell_type": "markdown",
      "source": [
        "1. What is Python, and why is it popular?\n",
        " - Python is a high-level, interpreted programming language which is popular for it's versatility, simplicity, easy to learn and rich ecosystem of libraries.\n",
        "\n",
        "2. What is an interpreter in Python?\n",
        " - An interpreter is a program that reads and executes code line-by-line, rather than compiling the entire code at once.\n",
        "\n",
        "3. What are pre-defined keywords in Python?\n",
        " -  Pre-defined keywords in Python are words that hold special meaning and have specific purpose.\n",
        "\n",
        "4. Can keywords be used as variable names?\n",
        " - No, keywords cannot be used as varibale names.\n",
        "\n",
        "5. What is mutability in Python?\n",
        " - Objects or container whose state or value can be changed after they are created is called mutability.\n",
        "\n",
        "6. Why are lists mutable, but tuples are immutable?\n",
        " - Lists are designed to add, remove, or change elements. Whereas Tuples are designed for fixed data. Hence, lists are mutable, but tuples are immutable.\n",
        "\n",
        "7. What is the difference between “==” and “is” operators in Python?\n",
        " - “==” is Equality Operator, it checks if values are equal. Whereas, “is” is Identity Operator which checks if two variables point to the same object in memory.\n",
        "\n",
        "8. What are logical operators in Python?\n",
        " - In Python, logical operators are used to combine conditional statements (Boolean expressions). They return either True or False based on the logic of the operands.\n",
        "\n",
        "9. What is type casting in Python?\n",
        " - Type casting in Python means the process of changing the data type of a value or object to another.\n",
        "\n",
        "10. What is the difference between implicit and explicit type casting?\n",
        " - In Implicit type casting Python understand the data type. In Explicit type casting Python converts data using inbuilt functions.\n",
        "\n",
        "11. What is the purpose of conditional statements in Python?\n",
        " - The purpose of conditional statements in Python is to allow our program to make decisions based on certain pre-conditions.\n",
        "\n",
        "12. How does the elif statement work?\n",
        " - The elif statement lets us check multiple conditions, one after another. It runs only the first condition that is True and blocks the rest.\n",
        "\n",
        "13. What is the difference between for and while loops?\n",
        " - 'for' loop is used when you know how many times you want to repeat something. Whereas, 'while' loop is used when you want to keep repeating as long as a condition is true.\n",
        "\n",
        "14. Describe a scenario where a while loop is more suitable than a for loop\n",
        " - Scenario: Monitor temperature until it reaches 30°C.\n",
        " Here, 'while loop' is more suitable because we're monitoring a live condition, not looping through a predefined list of values. We don't know exactly how long it will take the temperature to reach 30°C. The loop runs as long as the condition temperature < 30 is True.\n",
        "\n"
      ],
      "metadata": {
        "id": "PRMs2IuoDvc9"
      }
    },
    {
      "cell_type": "markdown",
      "source": [
        "# Practical_Questions\n"
      ],
      "metadata": {
        "id": "DpWCZu5Oqd6X"
      }
    },
    {
      "cell_type": "markdown",
      "source": [
        "# 1. Write a Python program to print \"Hello, World\""
      ],
      "metadata": {
        "id": "I3mvO0Mhss4l"
      }
    },
    {
      "cell_type": "code",
      "source": [
        "print(\"Hello, World\")"
      ],
      "metadata": {
        "id": "8mDpqepYql_q"
      },
      "execution_count": null,
      "outputs": []
    },
    {
      "cell_type": "markdown",
      "source": [
        "# 2. Write a Python program that displays your name and age.\n"
      ],
      "metadata": {
        "id": "lJdu8JtZtWxt"
      }
    },
    {
      "cell_type": "code",
      "source": [
        "print(\"Name: Deep Basu\")\n",
        "print(\"Age: 27\")"
      ],
      "metadata": {
        "id": "iFwmF-K3rAar"
      },
      "execution_count": null,
      "outputs": []
    },
    {
      "cell_type": "markdown",
      "source": [
        "# 3. Write code to print all the pre-defined keywords in Python using the keyword library.\n",
        "\n"
      ],
      "metadata": {
        "id": "vAnWlpZRtijN"
      }
    },
    {
      "cell_type": "code",
      "source": [
        "help (\"keywords\")"
      ],
      "metadata": {
        "id": "VTs290Jyrkpr"
      },
      "execution_count": null,
      "outputs": []
    },
    {
      "cell_type": "markdown",
      "source": [
        "# 4. Write a program that checks if a given word is a Python keyword."
      ],
      "metadata": {
        "id": "F0-YYfRfu7Ps"
      }
    },
    {
      "cell_type": "code",
      "source": [
        "import keyword\n",
        "\n",
        "word = input(\"Enter a word: \")\n",
        "\n",
        "if keyword.iskeyword(word):\n",
        "    print(f\"{word} is a Python keyword.\")\n",
        "else:\n",
        "    print(f\"{word} is not a Python keyword.\")"
      ],
      "metadata": {
        "id": "hBosrJ79vCfe"
      },
      "execution_count": null,
      "outputs": []
    },
    {
      "cell_type": "markdown",
      "source": [
        "# 5. Create a list and tuple in Python, and demonstrate how attempting to change an element works differently for each."
      ],
      "metadata": {
        "id": "v4aS3FV4v5JL"
      }
    },
    {
      "cell_type": "code",
      "source": [
        "# List (mutable)\n",
        "my_list = [10, 20, 30]\n",
        "\n",
        "# Change an element in the list\n",
        "my_list[1] = 99\n",
        "print(my_list)\n",
        "# Output: [10, 99, 30]\n",
        "\n"
      ],
      "metadata": {
        "id": "KkQcQGBYv6f_"
      },
      "execution_count": null,
      "outputs": []
    },
    {
      "cell_type": "code",
      "source": [
        "# Tuple (immutable)\n",
        "my_tuple = (10, 20, 30)\n",
        "\n",
        "# Change an element in the tuple\n",
        "my_tuple[1] = 99\n",
        "print(my_tuple)\n",
        "# Output: TypeError: 'tuple' object does not support item assignment\n",
        "\n"
      ],
      "metadata": {
        "id": "NfwH3dd6yRNc"
      },
      "execution_count": null,
      "outputs": []
    },
    {
      "cell_type": "markdown",
      "source": [
        "# 6. Write a function to demonstrate the behavior of mutable and immutable arguments."
      ],
      "metadata": {
        "id": "e8hfYNLPylnJ"
      }
    },
    {
      "cell_type": "code",
      "source": [
        "def modify(int_arg, list_arg):\n",
        "    int_arg += 10            # This creates a new int object\n",
        "    list_arg.append(100)     # This modifies the original list object\n",
        "\n",
        "    print(\"Inside function - int_arg:\", int_arg)\n",
        "    print(\"Inside function - list_arg:\", list_arg)\n",
        "\n",
        "x = 5\n",
        "my_list = [1, 2, 3]\n",
        "\n",
        "modify(x, my_list)\n",
        "\n",
        "print(\"Outside function - x:\", x)\n",
        "print(\"Outside function - my_list:\", my_list)"
      ],
      "metadata": {
        "id": "ABFRWyAayrxH"
      },
      "execution_count": null,
      "outputs": []
    },
    {
      "cell_type": "markdown",
      "source": [
        "# 7. Write a program that performs basic arithmetic operations on two user-input numbers."
      ],
      "metadata": {
        "id": "gn0j1U0Hrrzp"
      }
    },
    {
      "cell_type": "code",
      "source": [
        "num1 = float(input(\"Enter first number: \"))\n",
        "num2 = float(input(\"Enter second number: \"))\n",
        "\n",
        "addition = num1 + num2\n",
        "subtraction = num1 - num2\n",
        "multiplication = num1 * num2\n",
        "\n",
        "if num2 != 0:\n",
        "    division = num1 / num2\n",
        "else:\n",
        "    division = \"Undefined (cannot divide by zero)\"\n",
        "\n",
        "print(\"\\nResults:\")\n",
        "print(\"Addition:\", addition)\n",
        "print(\"Subtraction:\", subtraction)\n",
        "print(\"Multiplication:\", multiplication)\n",
        "print(\"Division:\", division)"
      ],
      "metadata": {
        "id": "Pj_vmmqQr8y5"
      },
      "execution_count": null,
      "outputs": []
    },
    {
      "cell_type": "markdown",
      "source": [
        "# 8. Write a program to demonstrate the use of logical operators."
      ],
      "metadata": {
        "id": "kxu9EWd6tZRS"
      }
    },
    {
      "cell_type": "code",
      "source": [
        "age = int(input(\"Enter your age: \"))\n",
        "has_id = input(\"Do you have a valid ID? (yes/no): \").lower()\n",
        "\n",
        "has_valid_id = has_id == \"yes\"\n",
        "\n",
        "if age >= 18 and has_valid_id:\n",
        "    print(\"Welcome! You are allowed to enter.\")\n",
        "\n",
        "elif age >= 18 or has_valid_id:\n",
        "    print(\"Partial access granted (age or ID is valid).\")\n",
        "\n",
        "elif not has_valid_id:\n",
        "    print(\"Sorry, You must carry a valid ID.\")"
      ],
      "metadata": {
        "id": "jBhm2aREtPEu"
      },
      "execution_count": null,
      "outputs": []
    },
    {
      "cell_type": "markdown",
      "source": [
        "# 9. Write a Python program to convert user input from string to integer, float, and boolean types."
      ],
      "metadata": {
        "id": "Ykoy4tl55lP6"
      }
    },
    {
      "cell_type": "code",
      "source": [
        "user_input = input(\"Enter a value: \")\n",
        "\n",
        "# Convert to integar\n",
        "\n",
        "try:\n",
        "    int_value = int(user_input)\n",
        "    print(\"Integer value:\", int_value)\n",
        "except ValueError:\n",
        "    print(\"Cannot convert to integer.\")\n",
        "\n",
        "\n",
        "# Convert to float\n",
        "try:\n",
        "    float_value = float(user_input)\n",
        "    print(\"Float value:\", float_value)\n",
        "except ValueError:\n",
        "    print(\"Cannot convert to float.\")\n",
        "\n",
        "# Convert to boolean\n",
        "\n",
        "bool_value = user_input.strip().lower() not in [\"\", \"0\", \"false\"]\n",
        "print(\"Boolean value:\", bool_value)"
      ],
      "metadata": {
        "id": "VabUBxr85qYT"
      },
      "execution_count": null,
      "outputs": []
    },
    {
      "cell_type": "markdown",
      "source": [
        "# 10. Write code to demonstrate type casting with list elements."
      ],
      "metadata": {
        "id": "st79BLp37n6j"
      }
    },
    {
      "cell_type": "code",
      "source": [
        "# string to integer\n",
        "\n",
        "string_value = \"42\"\n",
        "integer_value = int(string_value)\n",
        "print(\"Integer value:\", integer_value)\n",
        "\n",
        "# float to integer\n",
        "\n",
        "float_value = 3.14\n",
        "integer_value = int(float_value)\n",
        "print(\"Integer value:\", integer_value)\n",
        "\n",
        "# integer to float\n",
        "\n",
        "integer_value = 4\n",
        "float_value = float(integer_value)\n",
        "print(\"Float value:\", float_value)\n"
      ],
      "metadata": {
        "id": "hDef1Hhm7srg"
      },
      "execution_count": null,
      "outputs": []
    },
    {
      "cell_type": "markdown",
      "source": [
        "# 11. Write a program that checks if a number is positive, negative, or zero."
      ],
      "metadata": {
        "id": "BcGV1ig2_62c"
      }
    },
    {
      "cell_type": "code",
      "source": [
        "num = int(input(\"Enter an integer: \"))\n",
        "\n",
        "if num > 0:\n",
        "    print(\"The number is positive.\")\n",
        "elif num < 0:\n",
        "    print(\"The number is negative.\")\n",
        "else:\n",
        "    print(\"The number is zero.\")"
      ],
      "metadata": {
        "id": "lCRHIt0W_-z_"
      },
      "execution_count": null,
      "outputs": []
    },
    {
      "cell_type": "markdown",
      "source": [
        "# 12. Write a for loop to print numbers from 1 to 10."
      ],
      "metadata": {
        "id": "6PKntLAsA7Rw"
      }
    },
    {
      "cell_type": "code",
      "source": [
        "for d in range(1, 11):\n",
        "    print(d)"
      ],
      "metadata": {
        "id": "LbmUNaktA-ih"
      },
      "execution_count": null,
      "outputs": []
    },
    {
      "cell_type": "code",
      "source": [],
      "metadata": {
        "id": "t_gzKszMBEgt"
      },
      "execution_count": null,
      "outputs": []
    },
    {
      "cell_type": "markdown",
      "source": [
        "# 13. Write a Python program to find the sum of all even numbers between 1 and 50."
      ],
      "metadata": {
        "id": "FZDjdofMBVc9"
      }
    },
    {
      "cell_type": "code",
      "source": [
        "sum_even = sum(range(2, 51, 2))\n",
        "print(\"Sum of all even numbers from 1 to 50 is:\", sum_even)"
      ],
      "metadata": {
        "id": "qFrhHMkHBYma"
      },
      "execution_count": null,
      "outputs": []
    },
    {
      "cell_type": "markdown",
      "source": [
        "# 14. Write a program to reverse a string using a while loop."
      ],
      "metadata": {
        "id": "wS7aFtKmCNaj"
      }
    },
    {
      "cell_type": "code",
      "source": [
        "text = input(\"Enter a string: \")\n",
        "reversed_text = \"\"\n",
        "index = len(text) - 1\n",
        "\n",
        "while index >= 0:\n",
        "    reversed_text += text[index]\n",
        "    index -= 1\n",
        "\n",
        "print(\"Reversed string:\", reversed_text)\n",
        "\n"
      ],
      "metadata": {
        "id": "k_3gn7GTCRDC"
      },
      "execution_count": null,
      "outputs": []
    },
    {
      "cell_type": "markdown",
      "source": [
        "# 15. Write a Python program to calculate the factorial of a number provided by the user using a while loop."
      ],
      "metadata": {
        "id": "VhABjzRxEJr_"
      }
    },
    {
      "cell_type": "code",
      "source": [
        "num = int(input(\"Enter a non-negative integer: \"))\n",
        "\n",
        "if num < 0:\n",
        "    print(\"Not applicable for negative numbers.\")\n",
        "else:\n",
        "    factorial = 1\n",
        "    d = 1\n",
        "\n",
        "while d <= num:\n",
        "        factorial *= d\n",
        "        d += 1\n",
        "print(f\"Factorial of {num} is: {factorial}\")\n"
      ],
      "metadata": {
        "id": "QSN2xQc2END6"
      },
      "execution_count": null,
      "outputs": []
    }
  ]
}