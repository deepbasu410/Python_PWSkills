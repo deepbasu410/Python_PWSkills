{
  "nbformat": 4,
  "nbformat_minor": 0,
  "metadata": {
    "colab": {
      "provenance": []
    },
    "kernelspec": {
      "name": "python3",
      "display_name": "Python 3"
    },
    "language_info": {
      "name": "python"
    }
  },
  "cells": [
    {
      "cell_type": "markdown",
      "source": [
        "# Data Types and Structures"
      ],
      "metadata": {
        "id": "mV3dckQtubDK"
      }
    },
    {
      "cell_type": "markdown",
      "source": [
        "1. What are data structures, and why are they important?\n",
        "-  Data structures in Python are specialized formats or containers used to store and organize data efficiently. They are important because they provide various ways to store, access, and manipulate data and speed up operations like search, insert, and delete according to specific needs."
      ],
      "metadata": {
        "id": "l7L6fZhbuijv"
      }
    },
    {
      "cell_type": "markdown",
      "source": [
        "2. Explain the difference between mutable and immutable data types with examples?\n",
        "- Mutable data types can be changed after they are created, while immutable data types cannot be changed — any modification creates a new object. Example follows-"
      ],
      "metadata": {
        "id": "bP6_MAVwxH4j"
      }
    },
    {
      "cell_type": "code",
      "source": [
        "# mutable data - list\n",
        "my_list = [1, 2, 3]\n",
        "my_list[0] = 4\n",
        "print(my_list) #Output = [4,2,3]\n",
        "\n",
        "#immutable data - tuples\n",
        "my_tuple = (1, 2, 3)\n",
        "my_tuple[0] = 10 #Output = 'tuple' object does not support item assignment\n"
      ],
      "metadata": {
        "colab": {
          "base_uri": "https://localhost:8080/",
          "height": 203
        },
        "id": "l1Lynq87xBC_",
        "outputId": "f6d677c1-e242-434d-ab8d-a7fd4b2147e7"
      },
      "execution_count": null,
      "outputs": [
        {
          "output_type": "stream",
          "name": "stdout",
          "text": [
            "[4, 2, 3]\n"
          ]
        },
        {
          "output_type": "error",
          "ename": "TypeError",
          "evalue": "'tuple' object does not support item assignment",
          "traceback": [
            "\u001b[0;31m---------------------------------------------------------------------------\u001b[0m",
            "\u001b[0;31mTypeError\u001b[0m                                 Traceback (most recent call last)",
            "\u001b[0;32m/tmp/ipython-input-289071965.py\u001b[0m in \u001b[0;36m<cell line: 0>\u001b[0;34m()\u001b[0m\n\u001b[1;32m      6\u001b[0m \u001b[0;31m#immutable data - tuples\u001b[0m\u001b[0;34m\u001b[0m\u001b[0;34m\u001b[0m\u001b[0m\n\u001b[1;32m      7\u001b[0m \u001b[0mmy_tuple\u001b[0m \u001b[0;34m=\u001b[0m \u001b[0;34m(\u001b[0m\u001b[0;36m1\u001b[0m\u001b[0;34m,\u001b[0m \u001b[0;36m2\u001b[0m\u001b[0;34m,\u001b[0m \u001b[0;36m3\u001b[0m\u001b[0;34m)\u001b[0m\u001b[0;34m\u001b[0m\u001b[0;34m\u001b[0m\u001b[0m\n\u001b[0;32m----> 8\u001b[0;31m \u001b[0mmy_tuple\u001b[0m\u001b[0;34m[\u001b[0m\u001b[0;36m0\u001b[0m\u001b[0;34m]\u001b[0m \u001b[0;34m=\u001b[0m \u001b[0;36m10\u001b[0m \u001b[0;31m#Output = 'tuple' object does not support item assignment\u001b[0m\u001b[0;34m\u001b[0m\u001b[0;34m\u001b[0m\u001b[0m\n\u001b[0m",
            "\u001b[0;31mTypeError\u001b[0m: 'tuple' object does not support item assignment"
          ]
        }
      ]
    },
    {
      "cell_type": "markdown",
      "source": [
        "3. What are the main differences between lists and tuples in Python?\n",
        "- Lists are mutable, can be changed after creation, are better for dynamic data. Wheras, Tuples are immutable, cannot be changed after creation and are better for fixed data."
      ],
      "metadata": {
        "id": "NaNwPi61yK1R"
      }
    },
    {
      "cell_type": "markdown",
      "source": [
        "4. Describe how dictionaries store data.\n",
        "- Dictionaries are a data structure in Python that store data as key-value pairs.Keys are unique and immutable, while values can be of any data type.\n",
        "Dictionaries are created using {} and key-value pairs separated by colons. Elements are accessed by referencing their keys using square brackets []."
      ],
      "metadata": {
        "id": "boECRes_yu7t"
      }
    },
    {
      "cell_type": "markdown",
      "source": [
        "5. Why might you use a set instead of a list in Python?\n",
        "- When we need to store unique elements, do not require ordering, and want faster lookups than a list, we can use a Set."
      ],
      "metadata": {
        "id": "QoKWfevM194W"
      }
    },
    {
      "cell_type": "markdown",
      "source": [
        "6. What is a string in Python, and how is it different from a list?\n",
        "- In Python, a string is an immutable sequence of characters used to store text, while a list is a mutable sequence that can hold elements of any type.\n"
      ],
      "metadata": {
        "id": "EKG990yy2e61"
      }
    },
    {
      "cell_type": "markdown",
      "source": [
        "7. How do tuples ensure data integrity in Python?\n",
        "- Tuples ensure data integrity in Python by being immutable — once created, their elements cannot be changed, added, or removed."
      ],
      "metadata": {
        "id": "lXmjrcMB3KcM"
      }
    },
    {
      "cell_type": "markdown",
      "source": [
        "8. What is a hash table, and how does it relate to dictionaries in Python?\n",
        "- A hash table is a data structure that stores data in key value pairs and uses a hash function to map each key to a specific memory location for fast access. In Python, a dictionary is an implementation of a hash table — it hashes each key to determine where its value is stored."
      ],
      "metadata": {
        "id": "EAj7gxsh3h7V"
      }
    },
    {
      "cell_type": "markdown",
      "source": [
        "9. Can lists contain different data types in Python?\n",
        "- Yes. In Python, lists can contain elements of different data types, including numbers, strings, booleans, objects."
      ],
      "metadata": {
        "id": "0397OFga4R5g"
      }
    },
    {
      "cell_type": "markdown",
      "source": [
        "10.  Explain why strings are immutable in Python?\n",
        "- Strings are immutable in Python because their data is stored in a fixed memory location, and any change creates a new string object instead of modifying the original."
      ],
      "metadata": {
        "id": "AprlDTvW4m7l"
      }
    },
    {
      "cell_type": "markdown",
      "source": [
        "11. What advantages do dictionaries offer over lists for certain tasks?\n",
        "- Dictionaries are better than lists because it allows quicka and direct access by key instead of searching by index and store data as key value pairs instead of by position."
      ],
      "metadata": {
        "id": "q8fB8fum44E0"
      }
    },
    {
      "cell_type": "markdown",
      "source": [
        "12. Describe a scenario where using a tuple would be preferable over a list.\n",
        "- Use a tuple instead of a list when you have data that should never change, like storing the latitude and longitude of a location or the days of the week or storing peoples' date of birth."
      ],
      "metadata": {
        "id": "mP-j3EAJ5htR"
      }
    },
    {
      "cell_type": "markdown",
      "source": [
        "13. How do sets handle duplicate values in Python?\n",
        "- In Python, sets automatically remove duplicate values. If you add a value that is already in the set, it’s ignored, so each element is always unique."
      ],
      "metadata": {
        "id": "40TxwVAl5z1u"
      }
    },
    {
      "cell_type": "markdown",
      "source": [
        "14. How does the “in” keyword work differently for lists and dictionaries?\n",
        "- In lists, the \"in\" keyword checks if a specific value exists among the elements. Whereas, in dictionaries, it checks if a specific key exists, not the value."
      ],
      "metadata": {
        "id": "nIjIU7Rg6Q9R"
      }
    },
    {
      "cell_type": "markdown",
      "source": [
        "15. Can you modify the elements of a tuple? Explain why or why not.\n",
        "- No, we cannot modify the elements of a tuple because tuples are immutable, meaning their data is stored in a fixed memory structure — once created, their elements cannot be changed, added, or removed."
      ],
      "metadata": {
        "id": "LLaIIC-c-R_9"
      }
    },
    {
      "cell_type": "markdown",
      "source": [
        "16. What is a nested dictionary, and give an example of its use case?\n",
        "- A nested dictionary is a dictionary where each value can itself be another dictionary."
      ],
      "metadata": {
        "id": "FxgUVDf0-gDV"
      }
    },
    {
      "cell_type": "code",
      "source": [
        "# Storing structured data, like a company’s departments and their employees\n",
        "company = {\n",
        "    \"HR\": {\"Manager\": \"Alice\", \"Assistant\": \"Bob\"},\n",
        "    \"IT\": {\"Manager\": \"Charlie\", \"Developer\": \"David\"}}\n",
        "print(company[\"IT\"][\"Developer\"])"
      ],
      "metadata": {
        "colab": {
          "base_uri": "https://localhost:8080/"
        },
        "id": "AV8nqzbYADxp",
        "outputId": "ede467d6-0241-4174-96e1-471b7ce95371"
      },
      "execution_count": null,
      "outputs": [
        {
          "output_type": "stream",
          "name": "stdout",
          "text": [
            "David\n"
          ]
        }
      ]
    },
    {
      "cell_type": "markdown",
      "source": [
        "17. Describe the time complexity of accessing elements in a dictionary.\n",
        "- Accessing elements in a Python dictionary has an average time complexity of O(1) because it uses a hash table to directly find the value from the key’s hash. However, in the worst case (rare, due to hash collisions), access time can degrade to O(n)."
      ],
      "metadata": {
        "id": "so1huloqAvvh"
      }
    },
    {
      "cell_type": "markdown",
      "source": [
        "18.  In what situations are lists preferred over dictionaries?\n",
        "- Lists are preferred over dictionaries when, we need ordered data and we need to store values without unique keys, we need to access items by position (index) instead of by a key, dataset is small and doesn’t need fast key-based lookups."
      ],
      "metadata": {
        "id": "kBM8DasYBK4v"
      }
    },
    {
      "cell_type": "markdown",
      "source": [
        "19. Why are dictionaries considered unordered, and how does that affect data retrieval?\n",
        "- Dictionaries are considered unordered because their items are stored based on hash values of keys, not their insertion order. This means we can’t reliably retrieve items by position — we must use their keys to get the values."
      ],
      "metadata": {
        "id": "8TuvnJ67BxoB"
      }
    },
    {
      "cell_type": "markdown",
      "source": [
        "20. Explain the difference between a list and a dictionary in terms of data retrieval.\n",
        "- For Lists retrieval of data is done by numeric index based on position, retrieval requires knowing the element’s position, and searching for a specific value may take longer. Whereas, dictionaries retrieve data by unique keys.This allows much faster lookups without knowing the element’s position."
      ],
      "metadata": {
        "id": "kQ9FE7kHCQGe"
      }
    },
    {
      "cell_type": "markdown",
      "source": [
        "# Practical_Questions\n"
      ],
      "metadata": {
        "id": "yZcP_L7uDDVI"
      }
    },
    {
      "cell_type": "markdown",
      "source": [
        "# 1. Write a code to create a string with your name and print it."
      ],
      "metadata": {
        "id": "sZTUUOejDJGi"
      }
    },
    {
      "cell_type": "code",
      "source": [
        "name = \"Deep Basu\"\n",
        "print(name)"
      ],
      "metadata": {
        "colab": {
          "base_uri": "https://localhost:8080/"
        },
        "id": "h5-J3UvGG4Nz",
        "outputId": "242b4b90-d53a-4697-c26a-73fefdbd4038"
      },
      "execution_count": null,
      "outputs": [
        {
          "output_type": "stream",
          "name": "stdout",
          "text": [
            "Deep Basu\n"
          ]
        }
      ]
    },
    {
      "cell_type": "markdown",
      "source": [
        "# 2. Write a code to find the length of the string \"Hello World\"."
      ],
      "metadata": {
        "id": "JgfVPanYHlQx"
      }
    },
    {
      "cell_type": "code",
      "source": [
        "text = \"Hello World\"\n",
        "length = len(text)\n",
        "print(\"Length of the string is:\", length)"
      ],
      "metadata": {
        "colab": {
          "base_uri": "https://localhost:8080/"
        },
        "id": "IUdGb5sxH-Cm",
        "outputId": "aaeae235-c9be-40ff-f402-1cf64dc233c8"
      },
      "execution_count": null,
      "outputs": [
        {
          "output_type": "stream",
          "name": "stdout",
          "text": [
            "Length of the string is: 11\n"
          ]
        }
      ]
    },
    {
      "cell_type": "markdown",
      "source": [
        "# 3. Write a code to slice the first 3 characters from the string \"Python Programming\"."
      ],
      "metadata": {
        "id": "S7A1Rf0gIRcm"
      }
    },
    {
      "cell_type": "code",
      "source": [
        "text = \"Python Programming\"\n",
        "first_three = text[:3]\n",
        "print(first_three)\n"
      ],
      "metadata": {
        "colab": {
          "base_uri": "https://localhost:8080/"
        },
        "id": "S8sJPcNtIVv5",
        "outputId": "a42819cf-2d4d-4692-a87b-44a46a0f1910"
      },
      "execution_count": null,
      "outputs": [
        {
          "output_type": "stream",
          "name": "stdout",
          "text": [
            "Pyt\n"
          ]
        }
      ]
    },
    {
      "cell_type": "markdown",
      "source": [
        "# 4. Write a code to convert the string \"hello\" to uppercase."
      ],
      "metadata": {
        "id": "dA3LcJt0IjGc"
      }
    },
    {
      "cell_type": "code",
      "source": [
        "text = \"hello\"\n",
        "uppercase_text = text.upper()\n",
        "print(uppercase_text)"
      ],
      "metadata": {
        "colab": {
          "base_uri": "https://localhost:8080/"
        },
        "id": "I19eP19GImjT",
        "outputId": "d62d514c-dc3f-489a-e2f1-023ffa17d3de"
      },
      "execution_count": null,
      "outputs": [
        {
          "output_type": "stream",
          "name": "stdout",
          "text": [
            "HELLO\n"
          ]
        }
      ]
    },
    {
      "cell_type": "markdown",
      "source": [
        "# 5. Write a code to replace the word \"apple\" with \"orange\" in the string \"I like apple\"."
      ],
      "metadata": {
        "id": "4_Hl5kXrIy3B"
      }
    },
    {
      "cell_type": "code",
      "source": [
        "text = \"I like apple\"\n",
        "replaced_text = text.replace(\"apple\", \"orange\")\n",
        "print(replaced_text)\n"
      ],
      "metadata": {
        "colab": {
          "base_uri": "https://localhost:8080/"
        },
        "id": "iPXfRRL8I_LT",
        "outputId": "3f750b75-b7ca-4511-c749-14935ff85677"
      },
      "execution_count": null,
      "outputs": [
        {
          "output_type": "stream",
          "name": "stdout",
          "text": [
            "I like orange\n"
          ]
        }
      ]
    },
    {
      "cell_type": "markdown",
      "source": [
        "# 6. Write a code to create a list with numbers 1 to 5 and print it."
      ],
      "metadata": {
        "id": "QVYQuTUQJrg-"
      }
    },
    {
      "cell_type": "code",
      "source": [
        "numbers = [1, 2, 3, 4, 5]\n",
        "print(numbers)"
      ],
      "metadata": {
        "colab": {
          "base_uri": "https://localhost:8080/"
        },
        "id": "gqPlUCCEJwV5",
        "outputId": "efc55925-8d69-4c60-ab2d-9b1f44d751df"
      },
      "execution_count": null,
      "outputs": [
        {
          "output_type": "stream",
          "name": "stdout",
          "text": [
            "[1, 2, 3, 4, 5]\n"
          ]
        }
      ]
    },
    {
      "cell_type": "markdown",
      "source": [
        "# 7. Write a code to append the number 10 to the list [1, 2, 3, 4]."
      ],
      "metadata": {
        "id": "hTDlC3SLJ-gB"
      }
    },
    {
      "cell_type": "code",
      "source": [
        "numbers = [1, 2, 3, 4]\n",
        "numbers.append(10)\n",
        "print(numbers)"
      ],
      "metadata": {
        "colab": {
          "base_uri": "https://localhost:8080/"
        },
        "id": "J_NYkboWKETi",
        "outputId": "97d682cf-5a01-4a01-92eb-4bb5ffd9d5ac"
      },
      "execution_count": null,
      "outputs": [
        {
          "output_type": "stream",
          "name": "stdout",
          "text": [
            "[1, 2, 3, 4, 10]\n"
          ]
        }
      ]
    },
    {
      "cell_type": "markdown",
      "source": [
        "# 8. Write a code to remove the number 3 from the list [1, 2, 3, 4, 5]."
      ],
      "metadata": {
        "id": "C1UhNWmKKL4p"
      }
    },
    {
      "cell_type": "code",
      "source": [
        "numbers = [1, 2, 3, 4, 5]\n",
        "numbers.remove(3)\n",
        "print(numbers)"
      ],
      "metadata": {
        "colab": {
          "base_uri": "https://localhost:8080/"
        },
        "id": "Th_RYop3KRUa",
        "outputId": "3afd2ed4-44c0-4bb0-f1df-4461bfb08d0e"
      },
      "execution_count": null,
      "outputs": [
        {
          "output_type": "stream",
          "name": "stdout",
          "text": [
            "[1, 2, 4, 5]\n"
          ]
        }
      ]
    },
    {
      "cell_type": "markdown",
      "source": [
        "# 9 . Write a code to access the second element in the list ['a', 'b', 'c', 'd']."
      ],
      "metadata": {
        "id": "a6iiX-ymKghu"
      }
    },
    {
      "cell_type": "code",
      "source": [
        "letters = ['a', 'b', 'c', 'd']\n",
        "second_element = letters[1]\n",
        "print(second_element)"
      ],
      "metadata": {
        "colab": {
          "base_uri": "https://localhost:8080/"
        },
        "id": "MX-Gy7zLKmrb",
        "outputId": "c9ef148e-4f6f-492a-9ff2-955ad398fd78"
      },
      "execution_count": null,
      "outputs": [
        {
          "output_type": "stream",
          "name": "stdout",
          "text": [
            "b\n"
          ]
        }
      ]
    },
    {
      "cell_type": "markdown",
      "source": [
        "# 10. Write a code to reverse the list [10, 20, 30, 40, 50]."
      ],
      "metadata": {
        "id": "ddcau8CuKvoN"
      }
    },
    {
      "cell_type": "code",
      "source": [
        "numbers = [10, 20, 30, 40, 50]\n",
        "numbers.reverse()\n",
        "print(numbers)"
      ],
      "metadata": {
        "colab": {
          "base_uri": "https://localhost:8080/"
        },
        "id": "uCUP21PyKzu2",
        "outputId": "0deea74d-5a26-4627-8a21-4a0746352002"
      },
      "execution_count": null,
      "outputs": [
        {
          "output_type": "stream",
          "name": "stdout",
          "text": [
            "[50, 40, 30, 20, 10]\n"
          ]
        }
      ]
    },
    {
      "cell_type": "markdown",
      "source": [
        "# 11. Write a code to create a tuple with the elements 100, 200, 300 and print it."
      ],
      "metadata": {
        "id": "rsQLvuPfK8LI"
      }
    },
    {
      "cell_type": "code",
      "source": [
        "numbers = tuple([100, 200, 300])\n",
        "print(numbers)"
      ],
      "metadata": {
        "colab": {
          "base_uri": "https://localhost:8080/"
        },
        "id": "LTh9dQxRLBHF",
        "outputId": "fc64c5f1-a13b-4bc5-c812-87be8e1739ca"
      },
      "execution_count": null,
      "outputs": [
        {
          "output_type": "stream",
          "name": "stdout",
          "text": [
            "(100, 200, 300)\n"
          ]
        }
      ]
    },
    {
      "cell_type": "markdown",
      "source": [
        "# 12. Write a code to access the second-to-last element of the tuple ('red', 'green', 'blue', 'yellow')."
      ],
      "metadata": {
        "id": "QiK1CnQjLZ20"
      }
    },
    {
      "cell_type": "code",
      "source": [
        "elements = ('red', 'green', 'blue', 'yellow')\n",
        "second_last_element = elements[-2]\n",
        "print(second_last_element)"
      ],
      "metadata": {
        "colab": {
          "base_uri": "https://localhost:8080/"
        },
        "id": "lijo8qB1Lgge",
        "outputId": "177c8549-a510-4176-96f8-06750c6cbf96"
      },
      "execution_count": null,
      "outputs": [
        {
          "output_type": "stream",
          "name": "stdout",
          "text": [
            "blue\n"
          ]
        }
      ]
    },
    {
      "cell_type": "markdown",
      "source": [
        "# 13. Write a code to find the minimum number in the tuple (10, 20, 5, 15)."
      ],
      "metadata": {
        "id": "9cppTlFTMB3d"
      }
    },
    {
      "cell_type": "code",
      "source": [
        "numbers = (10, 20, 5, 15)\n",
        "minimum_number = min(numbers)\n",
        "print(minimum_number)"
      ],
      "metadata": {
        "colab": {
          "base_uri": "https://localhost:8080/"
        },
        "id": "aAy9yZjIMKHF",
        "outputId": "36d5f253-ee18-48e4-b2e6-2f19a9373843"
      },
      "execution_count": null,
      "outputs": [
        {
          "output_type": "stream",
          "name": "stdout",
          "text": [
            "5\n"
          ]
        }
      ]
    },
    {
      "cell_type": "markdown",
      "source": [
        "# 14.  Write a code to find the index of the element \"cat\" in the tuple ('dog', 'cat', 'rabbit')."
      ],
      "metadata": {
        "id": "W9KQ_OQhMSxL"
      }
    },
    {
      "cell_type": "code",
      "source": [
        "elements = ('dog', 'cat', 'rabbit')\n",
        "index_cat = elements.index('cat')\n",
        "print(index_cat)"
      ],
      "metadata": {
        "colab": {
          "base_uri": "https://localhost:8080/"
        },
        "id": "K4TY6N8-MWUn",
        "outputId": "56157d13-32e9-4d88-8364-562e4f8e6d98"
      },
      "execution_count": null,
      "outputs": [
        {
          "output_type": "stream",
          "name": "stdout",
          "text": [
            "1\n"
          ]
        }
      ]
    },
    {
      "cell_type": "markdown",
      "source": [
        "# 15. Write a code to create a tuple containing three different fruits and check if \"kiwi\" is in it."
      ],
      "metadata": {
        "id": "L9gUPT99MkU8"
      }
    },
    {
      "cell_type": "code",
      "source": [
        "fruits = ('apple', 'pomegranate', 'kiwi')\n",
        "if 'kiwi' in fruits:\n",
        "    print(\"Kiwi is in the tuple\")\n",
        "else:\n",
        "    print(\"Kiwi is not in the tuple\")"
      ],
      "metadata": {
        "colab": {
          "base_uri": "https://localhost:8080/"
        },
        "id": "qpG42rWZMoI0",
        "outputId": "6ffb38fb-2b6f-45cd-a081-6af04dae98be"
      },
      "execution_count": null,
      "outputs": [
        {
          "output_type": "stream",
          "name": "stdout",
          "text": [
            "Kiwi is in the tuple\n"
          ]
        }
      ]
    },
    {
      "cell_type": "markdown",
      "source": [
        "# 16. Write a code to create a set with the elements 'a', 'b', 'c' and print it."
      ],
      "metadata": {
        "id": "G_oggMTLNQdL"
      }
    },
    {
      "cell_type": "code",
      "source": [
        "my_set = {'a', 'b', 'c'}\n",
        "print(my_set)"
      ],
      "metadata": {
        "colab": {
          "base_uri": "https://localhost:8080/"
        },
        "id": "M8Nmy0ZjNUei",
        "outputId": "43f24095-02a0-4f7e-a1e7-66a2cf5474da"
      },
      "execution_count": null,
      "outputs": [
        {
          "output_type": "stream",
          "name": "stdout",
          "text": [
            "{'a', 'b', 'c'}\n"
          ]
        }
      ]
    },
    {
      "cell_type": "markdown",
      "source": [
        "# 17. Write a code to clear all elements from the set {1, 2, 3, 4, 5}."
      ],
      "metadata": {
        "id": "xe4F_B7-Nc51"
      }
    },
    {
      "cell_type": "code",
      "source": [
        "my_set = {1, 2, 3, 4, 5}\n",
        "my_set.clear()\n",
        "print(my_set)"
      ],
      "metadata": {
        "colab": {
          "base_uri": "https://localhost:8080/"
        },
        "id": "3APjz4wjNi1X",
        "outputId": "a4dbae43-2754-47d3-d8a3-324c4adaa2cb"
      },
      "execution_count": null,
      "outputs": [
        {
          "output_type": "stream",
          "name": "stdout",
          "text": [
            "set()\n"
          ]
        }
      ]
    },
    {
      "cell_type": "markdown",
      "source": [
        " # 18. Write a code to remove the element 4 from the set {1, 2, 3, 4}."
      ],
      "metadata": {
        "id": "vpaIAfmjNtyC"
      }
    },
    {
      "cell_type": "code",
      "source": [
        "my_set = {1, 2, 3, 4}\n",
        "my_set.remove(4)\n",
        "print(my_set)"
      ],
      "metadata": {
        "colab": {
          "base_uri": "https://localhost:8080/"
        },
        "id": "T88TmhVwNzBZ",
        "outputId": "b48ac49d-de18-4d2a-a537-68a968e0acbe"
      },
      "execution_count": null,
      "outputs": [
        {
          "output_type": "stream",
          "name": "stdout",
          "text": [
            "{1, 2, 3}\n"
          ]
        }
      ]
    },
    {
      "cell_type": "markdown",
      "source": [
        "# 19.  Write a code to find the union of two sets {1, 2, 3} and {3, 4, 5}."
      ],
      "metadata": {
        "id": "IaWpYsPXN9Qx"
      }
    },
    {
      "cell_type": "code",
      "source": [
        "set1 = {1, 2, 3}\n",
        "set2 = {3, 4, 5}\n",
        "union_set = set1.union(set2)\n",
        "print(union_set)"
      ],
      "metadata": {
        "colab": {
          "base_uri": "https://localhost:8080/"
        },
        "id": "9FIdyMyROCaq",
        "outputId": "03dee2e2-1e98-44ba-f974-29f2bf25f249"
      },
      "execution_count": null,
      "outputs": [
        {
          "output_type": "stream",
          "name": "stdout",
          "text": [
            "{1, 2, 3, 4, 5}\n"
          ]
        }
      ]
    },
    {
      "cell_type": "markdown",
      "source": [
        "# 20. Write a code to find the intersection of two sets {1, 2, 3} and {2, 3, 4}."
      ],
      "metadata": {
        "id": "jPp35y2POOl8"
      }
    },
    {
      "cell_type": "code",
      "source": [
        "set1 = {1, 2, 3}\n",
        "set2 = {2, 3, 4}\n",
        "intersection_set = set1.intersection(set2)\n",
        "print(intersection_set)"
      ],
      "metadata": {
        "colab": {
          "base_uri": "https://localhost:8080/"
        },
        "id": "tFPLWXZBOUc8",
        "outputId": "8b0aef2d-065b-4ee6-8313-b0f16256003c"
      },
      "execution_count": null,
      "outputs": [
        {
          "output_type": "stream",
          "name": "stdout",
          "text": [
            "{2, 3}\n"
          ]
        }
      ]
    },
    {
      "cell_type": "markdown",
      "source": [
        "# 21. Write a code to create a dictionary with the keys \"name\", \"age\", and \"city\", and print it."
      ],
      "metadata": {
        "id": "NM6RKAB4OlU4"
      }
    },
    {
      "cell_type": "code",
      "source": [
        "data = {\"name\": \"Deep\",\n",
        "    \"age\": 27,\n",
        "    \"city\": \"Kolkata\"}\n",
        "print(data)"
      ],
      "metadata": {
        "colab": {
          "base_uri": "https://localhost:8080/"
        },
        "id": "vpVKW9aQxQ6f",
        "outputId": "14cbfb8b-642c-4daf-e198-1f70112c6232"
      },
      "execution_count": 1,
      "outputs": [
        {
          "output_type": "stream",
          "name": "stdout",
          "text": [
            "{'name': 'Deep', 'age': 27, 'city': 'Kolkata'}\n"
          ]
        }
      ]
    },
    {
      "cell_type": "markdown",
      "source": [
        "# 22. Write a code to add a new key-value pair \"country\": \"USA\" to the dictionary {'name': 'John', 'age': 25}."
      ],
      "metadata": {
        "id": "Lc_w4BbHzaEQ"
      }
    },
    {
      "cell_type": "code",
      "source": [
        "person = {'name': 'John', 'age': 25}\n",
        "person['country'] = 'USA'\n",
        "print(person)"
      ],
      "metadata": {
        "colab": {
          "base_uri": "https://localhost:8080/"
        },
        "id": "f4zWX8LOzd0F",
        "outputId": "bd0c8b19-11cb-407d-c9d6-b1871f897635"
      },
      "execution_count": 2,
      "outputs": [
        {
          "output_type": "stream",
          "name": "stdout",
          "text": [
            "{'name': 'John', 'age': 25, 'country': 'USA'}\n"
          ]
        }
      ]
    },
    {
      "cell_type": "markdown",
      "source": [
        "# 23. Write a code to access the value associated with the key \"name\" in the dictionary {'name': 'Alice', 'age': 30}."
      ],
      "metadata": {
        "id": "keJZa0E5znkj"
      }
    },
    {
      "cell_type": "code",
      "source": [
        "person = {'name': 'Alice', 'age': 30}\n",
        "value_name = person['name']\n",
        "print(value_name)"
      ],
      "metadata": {
        "colab": {
          "base_uri": "https://localhost:8080/"
        },
        "id": "sIPA110K0YAa",
        "outputId": "e37b2b78-7be9-452b-d1ae-294a1caaebab"
      },
      "execution_count": 4,
      "outputs": [
        {
          "output_type": "stream",
          "name": "stdout",
          "text": [
            "Alice\n"
          ]
        }
      ]
    },
    {
      "cell_type": "markdown",
      "source": [
        "# 24. Write a code to remove the key \"age\" from the dictionary {'name': 'Bob', 'age': 22, 'city': 'New York'}."
      ],
      "metadata": {
        "id": "HCn8Cgxf0yTp"
      }
    },
    {
      "cell_type": "code",
      "source": [
        "person = {'name': 'Bob', 'age': 22, 'city': 'New York'}\n",
        "del person['age']\n",
        "print(person)"
      ],
      "metadata": {
        "colab": {
          "base_uri": "https://localhost:8080/"
        },
        "id": "GtJRmtLu01I4",
        "outputId": "7463b9f4-f522-4dd5-fd3f-4c8f5e6da03a"
      },
      "execution_count": 5,
      "outputs": [
        {
          "output_type": "stream",
          "name": "stdout",
          "text": [
            "{'name': 'Bob', 'city': 'New York'}\n"
          ]
        }
      ]
    },
    {
      "cell_type": "markdown",
      "source": [
        "# 25.  Write a code to check if the key \"city\" exists in the dictionary {'name': 'Alice', 'city': 'Paris'}"
      ],
      "metadata": {
        "id": "MU60tBGl09Qr"
      }
    },
    {
      "cell_type": "code",
      "source": [
        "person = {'name': 'Alice', 'city': 'Paris'}\n",
        "if 'city' in person:\n",
        "    print(\"City exists in the dictionary\")\n",
        "else:\n",
        "    print(\"City does not exist in the dictionary\")"
      ],
      "metadata": {
        "colab": {
          "base_uri": "https://localhost:8080/"
        },
        "id": "fZ0woTHN0_zc",
        "outputId": "e34e8bfd-fddf-4e8b-c2b1-0e47a948ad9e"
      },
      "execution_count": 6,
      "outputs": [
        {
          "output_type": "stream",
          "name": "stdout",
          "text": [
            "City exists in the dictionary\n"
          ]
        }
      ]
    },
    {
      "cell_type": "markdown",
      "source": [
        "# 26. Write a code to create a list, a tuple, and a dictionary, and print them all."
      ],
      "metadata": {
        "id": "t8Vuvo1k1Spq"
      }
    },
    {
      "cell_type": "code",
      "source": [
        "my_list = [1, 2, 3]\n",
        "my_tuple = (4, 5, 6)\n",
        "my_dict = {'a': 1, 'b': 2, 'c': 3}\n",
        "print(\"List:\", my_list)\n",
        "print(\"Tuple:\", my_tuple)\n",
        "print(\"Dictionary:\", my_dict)"
      ],
      "metadata": {
        "colab": {
          "base_uri": "https://localhost:8080/"
        },
        "id": "tnEz_fcZ2CUI",
        "outputId": "a9ea09d2-2e3e-4ee3-8811-d2edcb46ee86"
      },
      "execution_count": 9,
      "outputs": [
        {
          "output_type": "stream",
          "name": "stdout",
          "text": [
            "List: [1, 2, 3]\n",
            "Tuple: (4, 5, 6)\n",
            "Dictionary: {'a': 1, 'b': 2, 'c': 3}\n"
          ]
        }
      ]
    },
    {
      "cell_type": "markdown",
      "source": [
        "# 27. Write a code to create a list of 5 random numbers between 1 and 100, sort it in ascending order, and print the result.(replaced)"
      ],
      "metadata": {
        "id": "c7T7-rgy2Lhu"
      }
    },
    {
      "cell_type": "code",
      "source": [
        "import random\n",
        "numbers = [random.randint(1, 100) for _ in range(5)]\n",
        "numbers.sort()\n",
        "print(numbers)"
      ],
      "metadata": {
        "colab": {
          "base_uri": "https://localhost:8080/"
        },
        "id": "wLNrPZTN2SXf",
        "outputId": "b741fba5-202e-43f7-a4b3-6a57b6aa6449"
      },
      "execution_count": 10,
      "outputs": [
        {
          "output_type": "stream",
          "name": "stdout",
          "text": [
            "[15, 36, 37, 56, 71]\n"
          ]
        }
      ]
    },
    {
      "cell_type": "markdown",
      "source": [
        "# 28. Write a code to create a list with strings and print the element at the third index."
      ],
      "metadata": {
        "id": "AEVRpn4D26Vy"
      }
    },
    {
      "cell_type": "code",
      "source": [
        "brands = [\"Apple\", \"Samsung\", \"OnePlus\", \"Xiaomi\", \"Oppo\", \"Vivo\", \"Realme\", \"Nokia\"]\n",
        "print(brands[3])"
      ],
      "metadata": {
        "colab": {
          "base_uri": "https://localhost:8080/"
        },
        "id": "uIBCeWes29ED",
        "outputId": "364da020-e95b-4772-b800-25e89621b8ed"
      },
      "execution_count": 11,
      "outputs": [
        {
          "output_type": "stream",
          "name": "stdout",
          "text": [
            "Xiaomi\n"
          ]
        }
      ]
    },
    {
      "cell_type": "markdown",
      "source": [
        "# 29. Write a code to combine two dictionaries into one and print the result.\n",
        "\n"
      ],
      "metadata": {
        "id": "yR1EaYXJ3bzn"
      }
    },
    {
      "cell_type": "code",
      "source": [
        "data1 = {\n",
        "    \"name\": \"Alice\",\n",
        "    \"department\": \"HR\",\n",
        "    \"location\": \"New York\"}\n",
        "\n",
        "data2 = {\n",
        "    \"employee_id\": \"E2101\",\n",
        "    \"salary\": 75000,\n",
        "    \"joining_year\": 2025}\n",
        "\n",
        "combined_data = {**data1, **data2}\n",
        "print(combined_data)"
      ],
      "metadata": {
        "colab": {
          "base_uri": "https://localhost:8080/"
        },
        "id": "lQWRpbn03gvv",
        "outputId": "bc7fd626-1812-444b-dff6-6026a59f4882"
      },
      "execution_count": 16,
      "outputs": [
        {
          "output_type": "stream",
          "name": "stdout",
          "text": [
            "{'name': 'Alice', 'department': 'HR', 'location': 'New York', 'employee_id': 'E2101', 'salary': 75000, 'joining_year': 2025}\n"
          ]
        }
      ]
    },
    {
      "cell_type": "markdown",
      "source": [
        "# 30. Write a code to convert a list of strings into a set."
      ],
      "metadata": {
        "id": "qKrQONBH4Zd4"
      }
    },
    {
      "cell_type": "code",
      "source": [
        "cars = [\"Toyota\", \"BMW\", \"Audi\", \"Toyota\", \"Honda\"]\n",
        "cars_set = set(cars)\n",
        "print(cars_set)"
      ],
      "metadata": {
        "colab": {
          "base_uri": "https://localhost:8080/"
        },
        "id": "dCOUR-JQ4cDR",
        "outputId": "e3e5c49a-b88e-443d-b1e3-f93f86f807bf"
      },
      "execution_count": 17,
      "outputs": [
        {
          "output_type": "stream",
          "name": "stdout",
          "text": [
            "{'Toyota', 'Audi', 'Honda', 'BMW'}\n"
          ]
        }
      ]
    }
  ]
}