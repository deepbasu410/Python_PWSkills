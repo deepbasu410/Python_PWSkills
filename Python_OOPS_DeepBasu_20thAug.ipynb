{
  "nbformat": 4,
  "nbformat_minor": 0,
  "metadata": {
    "colab": {
      "provenance": []
    },
    "kernelspec": {
      "name": "python3",
      "display_name": "Python 3"
    },
    "language_info": {
      "name": "python"
    }
  },
  "cells": [
    {
      "cell_type": "markdown",
      "source": [
        "# Python OOPs"
      ],
      "metadata": {
        "id": "E3K2Inays8RO"
      }
    },
    {
      "cell_type": "markdown",
      "source": [
        "1. What is Object-Oriented Programming (OOP)?\n",
        "- Object-Oriented Programming (OOP) is a coding paradigm that organizes programs into objects (real-world entities) created from classes (blueprints), to provide modularity, reusability, and abstraction."
      ],
      "metadata": {
        "id": "ti6pn2K-s_DF"
      }
    },
    {
      "cell_type": "markdown",
      "source": [
        "2. What is a class in OOP?\n",
        "- A class in OOP is a blueprint or template used to create objects. It defines attributes (data/properties) and methods (functions/behaviors) that the objects created from it will have. Objects are the actual instances of a class."
      ],
      "metadata": {
        "id": "5Vj4SwKJuBKN"
      }
    },
    {
      "cell_type": "markdown",
      "source": [
        "3. What is an object in OOP?\n",
        "- An object in OOP is an instance of a class, representing a real-world entity with its own data (attributes) and behavior (methods)."
      ],
      "metadata": {
        "id": "8FQsgjWTuWCG"
      }
    },
    {
      "cell_type": "markdown",
      "source": [
        "4. What is the difference between abstraction and encapsulation?\n",
        "- Abstraction is about focusing on the essential features of an object while hiding the unnecessary implementation details. It tells us what an object does, not how it does it. Encapsulation, on the other hand, is about bundling data and methods inside a class and controlling access to them, so the internal working is protected. It ensures data security and integrity."
      ],
      "metadata": {
        "id": "lzYnroW2ugrx"
      }
    },
    {
      "cell_type": "markdown",
      "source": [
        "5. What are dunder methods in Python?\n",
        "- Dunder methods (short for “double underscore” methods) in Python are special built-in methods that start and end with double underscores."
      ],
      "metadata": {
        "id": "J2EK94r4u03R"
      }
    },
    {
      "cell_type": "markdown",
      "source": [
        "6. Explain the concept of inheritance in OOP.\n",
        "- Inheritance is an OOP concept where a class (child/subclass) can acquire properties and behaviors (attributes and methods) from another class (parent/superclass). It allows code reusability and helps create a hierarchical relationship between classes."
      ],
      "metadata": {
        "id": "c8NvF9qfvH0C"
      }
    },
    {
      "cell_type": "markdown",
      "source": [
        "7. What is polymorphism in OOP?\n",
        "- Polymorphism in OOP means “many forms” — the ability of different classes to provide different implementations of the same method or operation. It allows the same interface (method name) to behave differently based on the object that calls it."
      ],
      "metadata": {
        "id": "I8HdM_uGvnMQ"
      }
    },
    {
      "cell_type": "markdown",
      "source": [
        "8. How is encapsulation achieved in Python?\n",
        "- Encapsulation in Python is achieved by bundling data and methods inside a class and restricting direct access to certain variables. This is done using access modifiers — public, protected (_), and private (__). Private attributes are accessed indirectly through getter and setter methods, ensuring data security and controlled modification."
      ],
      "metadata": {
        "id": "n-9McgQIvwwz"
      }
    },
    {
      "cell_type": "markdown",
      "source": [
        "9. What is a constructor in Python?\n",
        "- Constructor in Python is a special method used to initialize objects when a class is instantiated. The constructor method in Python is always named `__init__`. It is automatically called when you create a new object of a class. Typically used to assign values to object attributes."
      ],
      "metadata": {
        "id": "IKFG2luOwDCg"
      }
    },
    {
      "cell_type": "markdown",
      "source": [
        "10. What are class and static methods in Python?\n",
        "- In Python, class methods are methods that work with the class itself rather than instances. They are defined using the @classmethod decorator and take cls as the first parameter. These are often used for factory methods or operations that affect the whole class.\n",
        "Static methods, on the other hand, do not depend on either class (cls) or instance (self). They are defined using the @staticmethod decorator and behave like normal functions placed inside a class for logical grouping."
      ],
      "metadata": {
        "id": "s-ORXwijwQ-U"
      }
    },
    {
      "cell_type": "markdown",
      "source": [
        "11. What is method overloading in Python?\n",
        "- Method overloading in Python refers to giving a single method different behaviors based on the arguments passed to it. Python achieves overloading through default parameters or variable-length arguments (*args, **kwargs), allowing a method to handle different numbers or types of inputs flexibly."
      ],
      "metadata": {
        "id": "s-Q7tIZXwrxc"
      }
    },
    {
      "cell_type": "markdown",
      "source": [
        "12. What is method overriding in OOP?\n",
        "- Method overriding in OOP is the process where a subclass redefines a method from its parent class to provide a more specific or customized implementation. It enables polymorphism, allowing the same method call to behave differently depending on the object."
      ],
      "metadata": {
        "id": "PMziQ45hxa52"
      }
    },
    {
      "cell_type": "markdown",
      "source": [
        "13. What is a property decorator in Python?\n",
        "- The property decorator in Python allows defining class attributes with controlled access using getter, setter, and deleter methods. It provides a clean and Pythonic way to implement encapsulation, making methods behave like attributes while still enforcing logic and validation."
      ],
      "metadata": {
        "id": "1oSrw5CHx_2B"
      }
    },
    {
      "cell_type": "markdown",
      "source": [
        "14. Why is polymorphism important in OOP?\n",
        "- Polymorphism is important in OOP because it allows the same interface to be used with different underlying data types or classes, making code more flexible and reusable. It enables methods with the same name to behave differently depending on the object, which supports extensibility, maintainability, and clean design."
      ],
      "metadata": {
        "id": "oMuPdFmEyWhP"
      }
    },
    {
      "cell_type": "markdown",
      "source": [
        "15. What is an abstract class in Python?\n",
        "- An abstract class in Python is a class that cannot be instantiated directly and is meant to be a blueprint for other classes. It can define abstract methods (methods without implementation) that must be implemented by its subclasses. Abstract classes are defined using the abc module that serves as a template for other classes"
      ],
      "metadata": {
        "id": "56UxUIoUyo3a"
      }
    },
    {
      "cell_type": "markdown",
      "source": [
        "16. What are the advantages of OOP\n",
        "- The main advantages of Object-Oriented Programming (OOP) are:\n",
        "Modularity – Code is organized into classes and objects, making it easier to manage.\n",
        "Reusability – Features like inheritance allow reuse of existing code.\n",
        "Flexibility & Extensibility – Polymorphism lets the same interface work with different implementations.\n",
        "Encapsulation & Security – Data is hidden and protected from direct access.\n",
        "Maintainability – Easier to update, debug, and scale large applications.\n",
        "Real-world Modeling – Objects naturally represent real-world entities."
      ],
      "metadata": {
        "id": "ozbWm8mfy-N8"
      }
    },
    {
      "cell_type": "markdown",
      "source": [
        "17. What is the difference between a class variable and an instance variable?\n",
        "- In Python, class variables are variables that are shared by all objects of a class. They are defined inside the class but outside any method, and every instance refers to the same copy. Instance variables, on the other hand, are unique to each object. They are usually defined inside the `__init__` method using self, so every object has its own separate copy."
      ],
      "metadata": {
        "id": "ER-VsNSY07Wg"
      }
    },
    {
      "cell_type": "markdown",
      "source": [
        "18. What is multiple inheritance in Python?\n",
        "- Multiple inheritance in Python is an OOP feature where a class can inherit attributes and methods from more than one parent class. This allows the child class to combine functionalities of multiple classes. Python fully supports multiple inheritance, but it may lead to ambiguity (like the diamond problem), which is resolved using the Method Resolution Order (MRO)."
      ],
      "metadata": {
        "id": "MVdxJc5H08Eb"
      }
    },
    {
      "cell_type": "markdown",
      "source": [
        "19. Explain the purpose of `__str__` and `__repr__` methods in Python?\n",
        "- The `__str__` and `__repr__` methods in Python are special methods that define how an object is represented as a string. The `__str__` method is meant to return a readable and user-friendly description of the object, mainly used when printing or displaying it to end users. On the other hand, the `__repr__` method is intended to return an unambiguous and developer-oriented representation of the object, often useful for debugging and logging."
      ],
      "metadata": {
        "id": "Ix1bFsH31IOg"
      }
    },
    {
      "cell_type": "markdown",
      "source": [
        "20. What is the significance of the ‘super()’ function in Python?\n",
        "- The super() function in Python is used to call methods from a parent (super) class in a child (sub) class.It helps in reusing code, maintaining cleaner class hierarchies, and ensures proper method resolution in cases of multiple inheritance."
      ],
      "metadata": {
        "id": "qQ7kgOfSL6fa"
      }
    },
    {
      "cell_type": "markdown",
      "source": [
        "21. What is the significance of the `__del__` method in Python?\n",
        "- The `__del__` method in Python is a destructor that is called when an object is about to be destroyed. Its main significance is to release resources or perform cleanup tasks such as closing files or connections."
      ],
      "metadata": {
        "id": "uWOgK_FcMWR9"
      }
    },
    {
      "cell_type": "markdown",
      "source": [
        "22. What is the difference between @staticmethod and @classmethod in Python?\n",
        "- A **@staticmethod** in Python is a method that does not take the class (cls) or object (self) as the first argument. It behaves like a normal function but belongs to the class’s namespace, usually used for utility tasks related to the class. A **@classmethod**, on the other hand, takes the class (cls) as the first argument and can access or modify class-level variables. It is often used for factory methods or when behavior should apply to the class as a whole rather than individual objects."
      ],
      "metadata": {
        "id": "YQXFuMfFMmE6"
      }
    },
    {
      "cell_type": "markdown",
      "source": [
        "23. How does polymorphism work in Python with inheritance?\n",
        "- Polymorphism in Python with inheritance allows a child class to provide a specific implementation of a method that is already defined in its parent class, enabling different classes to define methods with the same name but different behaviors, making code more flexible and reusable."
      ],
      "metadata": {
        "id": "blhxmvA2M2J1"
      }
    },
    {
      "cell_type": "markdown",
      "source": [
        "24. What is method chaining in Python OOP?\n",
        "- Method chaining in Python OOP is a technique where multiple methods are called on the same object in a single line. This is achieved by designing methods to return the object (self) after execution, allowing calls to be linked together."
      ],
      "metadata": {
        "id": "EUFNObbVNQNL"
      }
    },
    {
      "cell_type": "markdown",
      "source": [
        "25. What is the purpose of the `__call__` method in Python?\n",
        "- The `__call__` method in Python allows an object of a class to be used as if it were a function. When defined, calling the object like a function (obj()) will execute the code inside `__call__`."
      ],
      "metadata": {
        "id": "juGB_Z_dNcUX"
      }
    },
    {
      "cell_type": "markdown",
      "source": [
        "# Practical_Questions"
      ],
      "metadata": {
        "id": "Wr_TVv9kNl6H"
      }
    },
    {
      "cell_type": "markdown",
      "source": [
        "# 1. Create a parent class Animal with a method speak() that prints a generic message. Create a child class Dog that overrides the speak() method to print \"Bark!\"."
      ],
      "metadata": {
        "id": "fj-G7si4NsFF"
      }
    },
    {
      "cell_type": "code",
      "source": [
        "class Animal:\n",
        "    def speak(self):\n",
        "        print(\"This animal makes a sound.\")\n",
        "\n",
        "a = Animal()\n",
        "a.speak()\n"
      ],
      "metadata": {
        "colab": {
          "base_uri": "https://localhost:8080/"
        },
        "id": "38pG5g7IOB0h",
        "outputId": "65a29c34-5ee9-468a-efd3-2ae6c674b2e7"
      },
      "execution_count": null,
      "outputs": [
        {
          "output_type": "stream",
          "name": "stdout",
          "text": [
            "This animal makes a sound.\n"
          ]
        }
      ]
    },
    {
      "cell_type": "code",
      "source": [
        "class Dog(Animal):\n",
        "    def speak(self):\n",
        "        print(\"Bark!\")\n",
        "d = Dog()\n",
        "d.speak()"
      ],
      "metadata": {
        "colab": {
          "base_uri": "https://localhost:8080/"
        },
        "id": "7hEX3P4-Og1e",
        "outputId": "42ebe56b-c86c-423d-98cd-6a35356d9f30"
      },
      "execution_count": null,
      "outputs": [
        {
          "output_type": "stream",
          "name": "stdout",
          "text": [
            "Bark!\n"
          ]
        }
      ]
    },
    {
      "cell_type": "markdown",
      "source": [
        "# 2.  Write a program to create an abstract class Shape with a method area(). Derive classes Circle and Rectangle from it and implement the area() method in both."
      ],
      "metadata": {
        "id": "eqZPpqv4Oj7i"
      }
    },
    {
      "cell_type": "code",
      "source": [
        "from abc import ABC, abstractmethod\n",
        "\n",
        "class Shape(ABC):\n",
        "    @abstractmethod\n",
        "    def area(self):\n",
        "        pass\n",
        "\n",
        "class Circle(Shape):\n",
        "    def __init__(self, r):\n",
        "        self.r = r\n",
        "    def area(self):\n",
        "        return 3.14 * self.r * self.r\n",
        "\n",
        "class Rectangle(Shape):\n",
        "    def __init__(self, l, w):\n",
        "        self.l = l\n",
        "        self.w = w\n",
        "    def area(self):\n",
        "        return self.l * self.w\n",
        "\n",
        "print(\"Circle Area:\", Circle(5).area())\n",
        "print(\"Rectangle Area:\", Rectangle(4, 6).area())"
      ],
      "metadata": {
        "colab": {
          "base_uri": "https://localhost:8080/"
        },
        "id": "E0LluvYbO4dG",
        "outputId": "15b91b5d-753b-4887-a013-7068cbc06175"
      },
      "execution_count": null,
      "outputs": [
        {
          "output_type": "stream",
          "name": "stdout",
          "text": [
            "Circle Area: 78.5\n",
            "Rectangle Area: 24\n"
          ]
        }
      ]
    },
    {
      "cell_type": "markdown",
      "source": [
        "# 3.  Implement a multi-level inheritance scenario where a class Vehicle has an attribute type. Derive a class Car and further derive a class ElectricCar that adds a battery attribute."
      ],
      "metadata": {
        "id": "RQ4APAuRPQkn"
      }
    },
    {
      "cell_type": "code",
      "source": [
        "class Vehicle:\n",
        "    def __init__(self, v_type):\n",
        "        self.type = v_type\n",
        "class Car(Vehicle):\n",
        "    def __init__(self, v_type, brand):\n",
        "        super().__init__(v_type)\n",
        "        self.brand = brand\n",
        "class ElectricCar(Car):\n",
        "    def __init__(self, v_type, brand, battery):\n",
        "        super().__init__(v_type, brand)\n",
        "        self.battery = battery\n",
        "ecar = ElectricCar(\"Four-wheeler\", \"Tesla\", \"85 kWh\")\n",
        "print(\"Type:\", ecar.type)\n",
        "print(\"Brand:\", ecar.brand)\n",
        "print(\"Battery:\", ecar.battery)"
      ],
      "metadata": {
        "colab": {
          "base_uri": "https://localhost:8080/"
        },
        "id": "zUID3kZ4PXnl",
        "outputId": "ac8de6ae-03f9-4204-c9d6-e0a11d1fdf4e"
      },
      "execution_count": null,
      "outputs": [
        {
          "output_type": "stream",
          "name": "stdout",
          "text": [
            "Type: Four-wheeler\n",
            "Brand: Tesla\n",
            "Battery: 85 kWh\n"
          ]
        }
      ]
    },
    {
      "cell_type": "markdown",
      "source": [
        "# 4. Demonstrate polymorphism by creating a base class Bird with a method fly(). Create two derived classe Sparrow and Penguin that override the fly() method.\n"
      ],
      "metadata": {
        "id": "pSNmQsPpPw3x"
      }
    },
    {
      "cell_type": "code",
      "source": [
        "class Bird:\n",
        "    def fly(self):\n",
        "        print(\"Some birds can fly.\")\n",
        "\n",
        "class Sparrow(Bird):\n",
        "    def fly(self):\n",
        "        print(\"Sparrow flies high in the sky.\")\n",
        "\n",
        "class Penguin(Bird):\n",
        "    def fly(self):\n",
        "        print(\"Penguins cannot fly, they swim instead.\")\n",
        "birds = [Sparrow(), Penguin()]\n",
        "\n",
        "for b in birds:\n",
        "    b.fly()"
      ],
      "metadata": {
        "colab": {
          "base_uri": "https://localhost:8080/"
        },
        "id": "iz-lMy5VP4vl",
        "outputId": "8b039610-d9c5-4b24-9f36-bb8d2c3c353c"
      },
      "execution_count": null,
      "outputs": [
        {
          "output_type": "stream",
          "name": "stdout",
          "text": [
            "Sparrow flies high in the sky.\n",
            "Penguins cannot fly, they swim instead.\n"
          ]
        }
      ]
    },
    {
      "cell_type": "markdown",
      "source": [
        "# 5. Write a program to demonstrate encapsulation by creating a class BankAccount with private attributes balance and methods to deposit, withdraw, and check balance."
      ],
      "metadata": {
        "id": "SOveCOTzQBoZ"
      }
    },
    {
      "cell_type": "code",
      "source": [
        "class BankAccount:\n",
        "    def __init__(self, balance=0):\n",
        "        self.__balance = balance\n",
        "\n",
        "    def deposit(self, amount):\n",
        "        self.__balance += amount\n",
        "\n",
        "    def withdraw(self, amount):\n",
        "        if amount <= self.__balance:\n",
        "            self.__balance -= amount\n",
        "        else:\n",
        "            print(\"Insufficient balance\")\n",
        "\n",
        "    def get_balance(self):\n",
        "        return self.__balance\n",
        "\n",
        "acc = BankAccount(120000)\n",
        "acc.deposit(50000)\n",
        "acc.withdraw(20000)\n",
        "print(\"Balance:\", acc.get_balance())"
      ],
      "metadata": {
        "colab": {
          "base_uri": "https://localhost:8080/"
        },
        "id": "S5I3yuchQG5c",
        "outputId": "449d08a3-3264-4419-fdb1-4800abe1cf41"
      },
      "execution_count": null,
      "outputs": [
        {
          "output_type": "stream",
          "name": "stdout",
          "text": [
            "Balance: 150000\n"
          ]
        }
      ]
    },
    {
      "cell_type": "markdown",
      "source": [
        "# 6. Demonstrate runtime polymorphism using a method play() in a base class Instrument. Derive classes Guitar and Piano that implement their own version of play()."
      ],
      "metadata": {
        "id": "ODZ7XDAoQqzd"
      }
    },
    {
      "cell_type": "code",
      "source": [
        "class Instrument:\n",
        "    def play(self):\n",
        "        print(\"Instrument is playing\")\n",
        "\n",
        "class Guitar(Instrument):\n",
        "    def play(self):\n",
        "        print(\"Guitar is strumming\")\n",
        "\n",
        "class Piano(Instrument):\n",
        "    def play(self):\n",
        "        print(\"Piano is playing melody\")\n",
        "\n",
        "instruments = [Guitar(), Piano()]\n",
        "\n",
        "for inst in instruments:\n",
        "    inst.play()"
      ],
      "metadata": {
        "colab": {
          "base_uri": "https://localhost:8080/"
        },
        "id": "Ho4_KRXFQvwb",
        "outputId": "6227f668-e648-4048-8741-c17b92d2e5c3"
      },
      "execution_count": null,
      "outputs": [
        {
          "output_type": "stream",
          "name": "stdout",
          "text": [
            "Guitar is strumming\n",
            "Piano is playing melody\n"
          ]
        }
      ]
    },
    {
      "cell_type": "markdown",
      "source": [
        "# 7. Create a class MathOperations with a class method add_numbers() to add two numbers and a static method subtract_numbers() to subtract two numbers."
      ],
      "metadata": {
        "id": "kxTQ0rQTQ8De"
      }
    },
    {
      "cell_type": "code",
      "source": [
        "class MathOps:\n",
        "    @classmethod\n",
        "    def add_numbers(cls, a, b):\n",
        "        return a + b\n",
        "\n",
        "    @staticmethod\n",
        "    def subtract_numbers(a, b):\n",
        "        return a - b\n",
        "print(\"Addition:\", MathOps.add_numbers(10, 5))\n",
        "print(\"Subtraction:\", MathOps.subtract_numbers(10, 5))"
      ],
      "metadata": {
        "colab": {
          "base_uri": "https://localhost:8080/"
        },
        "id": "K-ZBDpPtRAnX",
        "outputId": "1efc281e-5be1-4578-cf04-abecdec4fa60"
      },
      "execution_count": null,
      "outputs": [
        {
          "output_type": "stream",
          "name": "stdout",
          "text": [
            "Addition: 15\n",
            "Subtraction: 5\n"
          ]
        }
      ]
    },
    {
      "cell_type": "markdown",
      "source": [
        "# 8.  Implement a class Person with a class method to count the total number of persons created."
      ],
      "metadata": {
        "id": "mLzhHhdoRPUx"
      }
    },
    {
      "cell_type": "code",
      "source": [
        "class Person:\n",
        "    count = 0\n",
        "\n",
        "    def __init__(self, name):\n",
        "        self.name = name\n",
        "        Person.count += 1\n",
        "\n",
        "    @classmethod\n",
        "    def total_persons(cls):\n",
        "        return cls.count\n",
        "\n",
        "p1 = Person(\"A\")\n",
        "p2 = Person(\"B\")\n",
        "p3 = Person(\"C\")\n",
        "p4 = Person(\"D\")\n",
        "p5 = Person(\"E\")\n",
        "p6 = Person(\"F\")\n",
        "p7 = Person(\"G\")\n",
        "\n",
        "print(\"Total persons created:\", Person.total_persons())"
      ],
      "metadata": {
        "colab": {
          "base_uri": "https://localhost:8080/"
        },
        "id": "g4NJb-3IRV0p",
        "outputId": "c388e01c-1922-406e-d609-480255463906"
      },
      "execution_count": null,
      "outputs": [
        {
          "output_type": "stream",
          "name": "stdout",
          "text": [
            "Total persons created: 7\n"
          ]
        }
      ]
    },
    {
      "cell_type": "markdown",
      "source": [
        "# 9. Write a class Fraction with attributes numerator and denominator. Override the str method to display the fraction as \"numerator/denominator\"."
      ],
      "metadata": {
        "id": "hu_nYKalRsvU"
      }
    },
    {
      "cell_type": "code",
      "source": [
        "class Fraction:\n",
        "    def __init__(self, numerator, denominator):\n",
        "        self.numerator = numerator\n",
        "        self.denominator = denominator\n",
        "\n",
        "    def __str__(self):\n",
        "        return f\"{self.numerator}/{self.denominator}\"\n",
        "\n",
        "f1 = Fraction(3, 7)\n",
        "f2 = Fraction(5, 8)\n",
        "\n",
        "print(f1)  # Output: 3/7\n",
        "print(f2)  # Output: 5/8"
      ],
      "metadata": {
        "colab": {
          "base_uri": "https://localhost:8080/"
        },
        "id": "8pjRiUb4Rxky",
        "outputId": "1b9a87af-ef42-481e-f82b-5d550dc1a5cb"
      },
      "execution_count": null,
      "outputs": [
        {
          "output_type": "stream",
          "name": "stdout",
          "text": [
            "3/7\n",
            "5/8\n"
          ]
        }
      ]
    },
    {
      "cell_type": "markdown",
      "source": [
        "# 10.  Demonstrate operator overloading by creating a class Vector and overriding the add method to add two vectors."
      ],
      "metadata": {
        "id": "28b12u8iSKEq"
      }
    },
    {
      "cell_type": "code",
      "source": [
        "class Vector:\n",
        "    def __init__(self, x, y):\n",
        "        self.x = x\n",
        "        self.y = y\n",
        "\n",
        "    def __add__(self, other):\n",
        "        return Vector(self.x + other.x, self.y + other.y)\n",
        "\n",
        "    def __str__(self):\n",
        "        return f\"({self.x}, {self.y})\"\n",
        "\n",
        "v1 = Vector(6, 7)\n",
        "v2 = Vector(8, 9)\n",
        "v3 = v1 + v2\n",
        "\n",
        "print(\"v1 + v2 =\", v3)"
      ],
      "metadata": {
        "colab": {
          "base_uri": "https://localhost:8080/"
        },
        "id": "kSh8jN1USOrP",
        "outputId": "bc26860c-965c-4ab9-d1cb-1fa58604dac4"
      },
      "execution_count": null,
      "outputs": [
        {
          "output_type": "stream",
          "name": "stdout",
          "text": [
            "v1 + v2 = (14, 16)\n"
          ]
        }
      ]
    },
    {
      "cell_type": "markdown",
      "source": [
        "# 11. Create a class Person with attributes name and age. Add a method greet() that prints \"Hello, my name is {name} and I am {age} years old.\""
      ],
      "metadata": {
        "id": "cHWUtmgM-XaO"
      }
    },
    {
      "cell_type": "code",
      "source": [
        "class Person:\n",
        "    def __init__(self, name, age):\n",
        "        self.name = name\n",
        "        self.age = age\n",
        "\n",
        "    def greet(self):\n",
        "        print(f\"Hello, my name is {self.name} and I am {self.age} years old.\")\n",
        "\n",
        "p1 = Person(\"Ram\", 32)\n",
        "p1.greet()"
      ],
      "metadata": {
        "colab": {
          "base_uri": "https://localhost:8080/"
        },
        "id": "eSb-ecyD-b58",
        "outputId": "7b34879e-3b05-4993-f244-6186f4b2c784"
      },
      "execution_count": 1,
      "outputs": [
        {
          "output_type": "stream",
          "name": "stdout",
          "text": [
            "Hello, my name is Ram and I am 32 years old.\n"
          ]
        }
      ]
    },
    {
      "cell_type": "markdown",
      "source": [
        "# 12. Implement a class Student with attributes name and grades. Create a method average_grade() to compute the average of the grades."
      ],
      "metadata": {
        "id": "Ag65Wylk-teC"
      }
    },
    {
      "cell_type": "code",
      "source": [
        "class Student:\n",
        "    def __init__(self, name, grades):\n",
        "        self.name = name\n",
        "        self.grades = grades\n",
        "\n",
        "    def average_grade(self):\n",
        "        return sum(self.grades) / len(self.grades)\n",
        "\n",
        "students = [\n",
        "    Student(\"Rajib\", [85, 94, 78, 92]),\n",
        "    Student(\"Anita\", [88, 76, 95, 81]),\n",
        "    Student(\"Akshay\", [71, 65, 72, 68])\n",
        "]\n",
        "for s in students:\n",
        "    print(f\"Average grade of {s.name}: {s.average_grade():.2f}\")"
      ],
      "metadata": {
        "colab": {
          "base_uri": "https://localhost:8080/"
        },
        "id": "RdtD1i6F-yEp",
        "outputId": "d56b8177-82ed-49c4-ddc3-93fc34938703"
      },
      "execution_count": 4,
      "outputs": [
        {
          "output_type": "stream",
          "name": "stdout",
          "text": [
            "Average grade of Rajib: 87.25\n",
            "Average grade of Anita: 85.00\n",
            "Average grade of Akshay: 69.00\n"
          ]
        }
      ]
    },
    {
      "cell_type": "markdown",
      "source": [
        "# 13.  Create a class Rectangle with methods set_dimensions() to set the dimensions and area() to calculate the area."
      ],
      "metadata": {
        "id": "LOumLtLi_xeK"
      }
    },
    {
      "cell_type": "code",
      "source": [
        "class Rectangle:\n",
        "    def set_dimensions(self, length, width):\n",
        "        self.length = length\n",
        "        self.width = width\n",
        "\n",
        "    def area(self):\n",
        "        return self.length * self.width\n",
        "\n",
        "r1 = Rectangle()\n",
        "r1.set_dimensions(7, 4)\n",
        "print(\"Area of rectangle:\", r1.area())"
      ],
      "metadata": {
        "colab": {
          "base_uri": "https://localhost:8080/"
        },
        "id": "lLmOkPOV_3mO",
        "outputId": "40229013-7a2e-4cfa-be8d-4737a5c155ac"
      },
      "execution_count": 6,
      "outputs": [
        {
          "output_type": "stream",
          "name": "stdout",
          "text": [
            "Area of rectangle: 28\n"
          ]
        }
      ]
    },
    {
      "cell_type": "markdown",
      "source": [
        "# 14. Create a class Employee with a method calculate_salary() that computes the salary based on hours worked and hourly rate. Create a derived class Manager that adds a bonus to the salary."
      ],
      "metadata": {
        "id": "J2HyrsvXABlP"
      }
    },
    {
      "cell_type": "code",
      "source": [
        "class Employee:\n",
        "    def __init__(self, hours, rate):\n",
        "        self.hours = hours\n",
        "        self.rate = rate\n",
        "\n",
        "    def calculate_salary(self):\n",
        "        return self.hours * self.rate\n",
        "\n",
        "class Manager(Employee):\n",
        "    def __init__(self, hours, rate, bonus):\n",
        "        super().__init__(hours, rate)\n",
        "        self.bonus = bonus\n",
        "\n",
        "    def calculate_salary(self):\n",
        "        return super().calculate_salary() + self.bonus\n",
        "\n",
        "emp = Employee(40, 500)\n",
        "mgr = Manager(40, 650, 5000)\n",
        "\n",
        "print(\"Employee Salary:\", emp.calculate_salary())\n",
        "print(\"Manager Salary:\", mgr.calculate_salary())"
      ],
      "metadata": {
        "colab": {
          "base_uri": "https://localhost:8080/"
        },
        "id": "WufiaX4-AHFt",
        "outputId": "78af0315-2e67-449a-ce30-98c7be5d25c8"
      },
      "execution_count": 7,
      "outputs": [
        {
          "output_type": "stream",
          "name": "stdout",
          "text": [
            "Employee Salary: 20000\n",
            "Manager Salary: 31000\n"
          ]
        }
      ]
    },
    {
      "cell_type": "markdown",
      "source": [
        "#15.  Create a class Product with attributes name, price, and quantity. Implement a method total_price() that calculates the total price of the product."
      ],
      "metadata": {
        "id": "Sa4wNBAUA__-"
      }
    },
    {
      "cell_type": "code",
      "source": [
        "class Product:\n",
        "    def __init__(self, name, price, quantity):\n",
        "        self.name = name\n",
        "        self.price = price\n",
        "        self.quantity = quantity\n",
        "\n",
        "    def total_price(self):\n",
        "        return self.price * self.quantity\n",
        "\n",
        "products = [\n",
        "    Product(\"Laptop\", 50000, 2),\n",
        "    Product(\"Phone\", 20000, 3),\n",
        "    Product(\"Earbuds\", 1500, 5)\n",
        "]\n",
        "for p in products:\n",
        "    print(f\"Total price of {p.name}: {p.total_price()}\")"
      ],
      "metadata": {
        "colab": {
          "base_uri": "https://localhost:8080/"
        },
        "id": "Nbm8pRbaBL3m",
        "outputId": "d92ba86b-6301-45db-d090-aeae0917a3c3"
      },
      "execution_count": 8,
      "outputs": [
        {
          "output_type": "stream",
          "name": "stdout",
          "text": [
            "Total price of Laptop: 100000\n",
            "Total price of Phone: 60000\n",
            "Total price of Earbuds: 7500\n"
          ]
        }
      ]
    },
    {
      "cell_type": "markdown",
      "source": [
        "# 16. Create a class Animal with an abstract method sound(). Create two derived classes Cow and Sheep that implement the sound() method."
      ],
      "metadata": {
        "id": "scPlHKnDBj6m"
      }
    },
    {
      "cell_type": "code",
      "source": [
        "from abc import ABC, abstractmethod\n",
        "\n",
        "class Animal(ABC):\n",
        "    @abstractmethod\n",
        "    def sound(self):\n",
        "        pass\n",
        "\n",
        "class Cow(Animal):\n",
        "    def sound(self):\n",
        "        return \"Moo\"\n",
        "\n",
        "animals = [Cow()]\n",
        "for a in animals:\n",
        "    print(a.sound())"
      ],
      "metadata": {
        "colab": {
          "base_uri": "https://localhost:8080/"
        },
        "id": "7W6F1tJzBzES",
        "outputId": "8f3e21f9-4901-4faa-c35a-c75f690908aa"
      },
      "execution_count": 10,
      "outputs": [
        {
          "output_type": "stream",
          "name": "stdout",
          "text": [
            "Moo\n"
          ]
        }
      ]
    },
    {
      "cell_type": "code",
      "source": [
        "from abc import ABC, abstractmethod\n",
        "\n",
        "class Animal(ABC):\n",
        "    @abstractmethod\n",
        "    def sound(self):\n",
        "        pass\n",
        "\n",
        "class Sheep(Animal):\n",
        "    def sound(self):\n",
        "        return \"Baa\"\n",
        "\n",
        "animals = [Sheep()]\n",
        "for a in animals:\n",
        "    print(a.sound())"
      ],
      "metadata": {
        "colab": {
          "base_uri": "https://localhost:8080/"
        },
        "id": "ASbtTb_BCYz6",
        "outputId": "f63d69e6-2f55-4112-8c16-b670fb9ef277"
      },
      "execution_count": 11,
      "outputs": [
        {
          "output_type": "stream",
          "name": "stdout",
          "text": [
            "Baa\n"
          ]
        }
      ]
    },
    {
      "cell_type": "markdown",
      "source": [
        "# 17. Create a class Book with attributes title, author, and year_published. Add a method get_book_info() that returns a formatted string with the book's details."
      ],
      "metadata": {
        "id": "qQx7CMF3ClbZ"
      }
    },
    {
      "cell_type": "code",
      "source": [
        "class Book:\n",
        "    def __init__(self, title, author, year_published):\n",
        "        self.title = title\n",
        "        self.author = author\n",
        "        self.year_published = year_published\n",
        "\n",
        "    def get_book_info(self):\n",
        "        return f\"'{self.title}' by {self.author}, published in {self.year_published}\"\n",
        "\n",
        "books = [\n",
        "    Book(\"The Great Gatsby\", \"F. Scott Fitzgerald\", 1925),\n",
        "    Book(\"Pride and Prejudice\", \"Jane Austen\", 1813),\n",
        "    Book(\"The Alchemist\", \"Paulo Coelho\", 1988),\n",
        "    Book(\"To Kill a Mockingbird\", \"Harper Lee\", 1960),\n",
        "    Book(\"Harry Potter and the Philosopher's Stone\", \"J.K. Rowling\", 1997)\n",
        "    ]\n",
        "\n",
        "for b in books:\n",
        "    print(b.get_book_info())"
      ],
      "metadata": {
        "colab": {
          "base_uri": "https://localhost:8080/"
        },
        "id": "FV6sTcrVCq9S",
        "outputId": "a13bf780-8efa-4715-ab3f-bf05b7eb5eda"
      },
      "execution_count": 17,
      "outputs": [
        {
          "output_type": "stream",
          "name": "stdout",
          "text": [
            "'The Great Gatsby' by F. Scott Fitzgerald, published in 1925\n",
            "'Pride and Prejudice' by Jane Austen, published in 1813\n",
            "'The Alchemist' by Paulo Coelho, published in 1988\n",
            "'To Kill a Mockingbird' by Harper Lee, published in 1960\n",
            "'Harry Potter and the Philosopher's Stone' by J.K. Rowling, published in 1997\n"
          ]
        }
      ]
    },
    {
      "cell_type": "markdown",
      "source": [
        "# 18. Create a class House with attributes address and price. Create a derived class Mansion that adds an attribute number_of_rooms."
      ],
      "metadata": {
        "id": "BnaPcPB_DtlP"
      }
    },
    {
      "cell_type": "code",
      "source": [
        "class House:\n",
        "    def __init__(self, address, price):\n",
        "        self.address = address\n",
        "        self.price = price\n",
        "\n",
        "    def get_price(self):\n",
        "        return f\"{self.price} USD\"\n",
        "\n",
        "class Mansion(House):\n",
        "    def __init__(self, address, price, number_of_rooms):\n",
        "        super().__init__(address, price)\n",
        "        self.number_of_rooms = number_of_rooms\n",
        "\n",
        "    def display_info(self):\n",
        "        print(f\"Address: {self.address}\")\n",
        "        print(f\"Price: {self.get_price()}\")\n",
        "        print(f\"Rooms: {self.number_of_rooms}\")\n",
        "\n",
        "m1 = Mansion(\"123 Luxury St, New York\", 7000000, 12)\n",
        "m1.display_info()"
      ],
      "metadata": {
        "colab": {
          "base_uri": "https://localhost:8080/"
        },
        "id": "xMchRSkiD1bz",
        "outputId": "baba95f6-6f07-42ed-8e1e-980f40602f86"
      },
      "execution_count": 18,
      "outputs": [
        {
          "output_type": "stream",
          "name": "stdout",
          "text": [
            "Address: 123 Luxury St, New York\n",
            "Price: 7000000 USD\n",
            "Rooms: 12\n"
          ]
        }
      ]
    }
  ]
}